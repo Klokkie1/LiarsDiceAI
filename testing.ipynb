{
 "cells": [
  {
   "cell_type": "code",
   "execution_count": 11,
   "metadata": {},
   "outputs": [],
   "source": [
    "import numpy as np"
   ]
  },
  {
   "cell_type": "code",
   "execution_count": 12,
   "metadata": {},
   "outputs": [],
   "source": [
    "def player1(dice_total, my_dice, round_log):\n",
    "\tpass\n",
    "\n",
    "def player2(dice_total, my_dice, round_log):\n",
    "\tpass"
   ]
  },
  {
   "cell_type": "code",
   "execution_count": 13,
   "metadata": {},
   "outputs": [],
   "source": [
    "players = [player1, player2]"
   ]
  },
  {
   "cell_type": "code",
   "execution_count": null,
   "metadata": {},
   "outputs": [],
   "source": [
    "class Game:\n",
    "\tdef __init__(self, players, dice_count) -> None:\n",
    "\t\t# setting up a rng generator\n",
    "\t\tself.rng = np.random.default_rng()\n",
    "\n",
    "\t\t# storing the players and the dice numbers, and shuffling the player orders\n",
    "\t\tself.game_overview = {\"players\": self.rng.permutation(players), \"dice_count\": [dice_count]*len(players)}\n",
    "\n",
    "\t\n",
    "\tdef init_round(self):\n",
    "\t\tself.round_log = {\"player\": [], \"dice_count\": [], \"amount\": [], \"face\": []}\n",
    "\t\tself.round_data = {\"total_dice\": 0, \"total_counts\": [0]*6, \"player_dice\": []}\n",
    "\n",
    "\n",
    "\t\tfor player in range(len(self.game_overview[\"players\"])):\n",
    "\t\t\tplayer_dice = [0]*6\n",
    "\t\t\t# if self.game_overview[\"dice_count\"][player] == 0:\n",
    "\t\t\t# \tself.round_data[\"player_dice\"].append(player_dice)\n",
    "\t\t\t# \tcontinue\n",
    "\n",
    "\t\t\tfor dice in range(self.game_overview[\"dice_count\"][player]):\n",
    "\t\t\t\tvalue = self.rng.integers(1,7)\n",
    "\t\t\t\tself.round_data[\"total_dice\"]+=1\n",
    "\t\t\t\tself.round_data[\"total_counts\"][value-1] += 1\n",
    "\t\t\t\tplayer_dice[value-1] += 1\n",
    "\t\t\tprint(player_dice)\n",
    "\t\t\tself.round_data[\"player_dice\"].append(player_dice)"
   ]
  },
  {
   "cell_type": "code",
   "execution_count": 15,
   "metadata": {},
   "outputs": [
    {
     "data": {
      "text/plain": [
       "{'players': array([<function player2 at 0x7f3e29662200>,\n",
       "        <function player1 at 0x7f3e4db2eb60>], dtype=object),\n",
       " 'dice_count': [5, 5]}"
      ]
     },
     "execution_count": 15,
     "metadata": {},
     "output_type": "execute_result"
    }
   ],
   "source": [
    "game = Game(players, 5)\n",
    "game.game_overview"
   ]
  },
  {
   "cell_type": "code",
   "execution_count": 16,
   "metadata": {},
   "outputs": [
    {
     "data": {
      "text/plain": [
       "{'players': array([<function player2 at 0x7f3e29662200>,\n",
       "        <function player1 at 0x7f3e4db2eb60>], dtype=object),\n",
       " 'dice_count': [0, 5]}"
      ]
     },
     "execution_count": 16,
     "metadata": {},
     "output_type": "execute_result"
    }
   ],
   "source": [
    "game.game_overview[\"dice_count\"][0] = 0\n",
    "game.game_overview"
   ]
  },
  {
   "cell_type": "code",
   "execution_count": 17,
   "metadata": {},
   "outputs": [
    {
     "name": "stdout",
     "output_type": "stream",
     "text": [
      "[1, 0, 1, 1, 0, 2]\n"
     ]
    },
    {
     "data": {
      "text/plain": [
       "{'total_dice': 5,\n",
       " 'total_counts': [1, 0, 1, 1, 0, 2],\n",
       " 'player_dice': [[0, 0, 0, 0, 0, 0], [1, 0, 1, 1, 0, 2]]}"
      ]
     },
     "execution_count": 17,
     "metadata": {},
     "output_type": "execute_result"
    }
   ],
   "source": [
    "game.init_round()\n",
    "game.round_data"
   ]
  }
 ],
 "metadata": {
  "kernelspec": {
   "display_name": "cits5017-2024",
   "language": "python",
   "name": "python3"
  },
  "language_info": {
   "codemirror_mode": {
    "name": "ipython",
    "version": 3
   },
   "file_extension": ".py",
   "mimetype": "text/x-python",
   "name": "python",
   "nbconvert_exporter": "python",
   "pygments_lexer": "ipython3",
   "version": "3.12.4"
  }
 },
 "nbformat": 4,
 "nbformat_minor": 2
}
